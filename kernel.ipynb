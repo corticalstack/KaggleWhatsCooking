{
  "cells": [
    {
      "metadata": {
        "_uuid": "70f9319757b85c272c0e3760e78f856b2af03915"
      },
      "cell_type": "markdown",
      "source": "Supporting text"
    },
    {
      "metadata": {
        "_uuid": "8f2839f25d086af736a60e9eeb907d3b93b6e0e5",
        "_cell_guid": "b1076dfc-b9ad-4769-8c92-a6c4dae69d19",
        "trusted": true
      },
      "cell_type": "code",
      "source": "import matplotlib.pyplot as plt\nimport seaborn as sns\nimport numpy as np\nimport pandas as pd\nimport re\nfrom collections import Counter\nfrom sklearn.feature_extraction.text import TfidfVectorizer\nfrom sklearn.model_selection import train_test_split\nfrom sklearn.ensemble import RandomForestClassifier\nfrom sklearn.preprocessing import LabelEncoder",
      "execution_count": null,
      "outputs": []
    },
    {
      "metadata": {
        "_cell_guid": "79c7e3d0-c299-4dcb-8224-4455121ee9b0",
        "collapsed": true,
        "_uuid": "d629ff2d2480ee46fbb7e2d37f6b5fab8052498a",
        "trusted": false
      },
      "cell_type": "markdown",
      "source": "Load Data"
    },
    {
      "metadata": {
        "trusted": true,
        "_uuid": "6f2010da5617fb4fac53ad09138c49c4e9fa5fb4"
      },
      "cell_type": "code",
      "source": "df_train = pd.read_json(\"../input/train.json\")\ndf_test = pd.read_json(\"../input/test.json\")",
      "execution_count": null,
      "outputs": []
    },
    {
      "metadata": {
        "trusted": true,
        "_uuid": "243179c1f27659b2967fcebac2c439123122203d"
      },
      "cell_type": "code",
      "source": "print('Shape of train data',df_train.shape)\nprint('Shape of test data',df_test.shape)",
      "execution_count": null,
      "outputs": []
    },
    {
      "metadata": {
        "trusted": true,
        "_uuid": "5fbe3e14fe271d440effc947fcac93e0aa6eaf1d"
      },
      "cell_type": "code",
      "source": "df_train['number_ingredients'] = df_train['ingredients'].apply(lambda x: len(x))\ndf_test['number_ingredients'] = df_test['ingredients'].apply(lambda x: len(x))",
      "execution_count": null,
      "outputs": []
    },
    {
      "metadata": {
        "trusted": true,
        "_uuid": "43b73548306cf9bb459f0640bed8fced750d174f"
      },
      "cell_type": "code",
      "source": "df_train.head()",
      "execution_count": null,
      "outputs": []
    },
    {
      "metadata": {
        "trusted": true,
        "_uuid": "9d32c889c39c64da53bb05d536ff434cb799d895"
      },
      "cell_type": "code",
      "source": "df_train.tail()",
      "execution_count": null,
      "outputs": []
    },
    {
      "metadata": {
        "trusted": true,
        "_uuid": "daddf55fadad13de86de2d6bb4e6abd7ace31f9d"
      },
      "cell_type": "code",
      "source": "total = df_train.isnull().sum().sort_values(ascending=False)\npercent = (df_train.isnull().sum()/df_train.isnull().count()).sort_values(ascending=False)\nmissing_data = pd.concat([total, percent], axis=1, keys=['Missing Total', 'Missing %'])\nmissing_data.head(20)",
      "execution_count": null,
      "outputs": []
    },
    {
      "metadata": {
        "trusted": true,
        "_uuid": "443b061c8558ea3198cbc671844988c8978d152a"
      },
      "cell_type": "code",
      "source": "print(\"Recipes with 2 or less ingredients:\", len(df_train[df_train['number_ingredients'] <= 2]))",
      "execution_count": null,
      "outputs": []
    },
    {
      "metadata": {
        "trusted": true,
        "_uuid": "8233e526f711df3c0a622116cf70e5667936b711"
      },
      "cell_type": "code",
      "source": "df_train = df_train[df_train['number_ingredients'] > 2]",
      "execution_count": null,
      "outputs": []
    },
    {
      "metadata": {
        "trusted": true,
        "_uuid": "5db2aa5ed84473bda2ad00693e429deb30543049"
      },
      "cell_type": "code",
      "source": "cuisine_count = df_train['cuisine'].value_counts()\ncuisine_count",
      "execution_count": null,
      "outputs": []
    },
    {
      "metadata": {
        "trusted": true,
        "_uuid": "b28db7df4e1d882cb454729f8560da4162257d13"
      },
      "cell_type": "code",
      "source": "sns.set(style=\"whitegrid\")\nplt.subplots(figsize=(25,15))\nax = sns.barplot(cuisine_count.index, cuisine_count.values)",
      "execution_count": null,
      "outputs": []
    },
    {
      "metadata": {
        "trusted": true,
        "_uuid": "9b78204d4c567d221987405e41cbbea925dd5513"
      },
      "cell_type": "code",
      "source": "ingredient_count = Counter([item for sublist in df_train.ingredients for item in sublist]).most_common()",
      "execution_count": null,
      "outputs": []
    },
    {
      "metadata": {
        "trusted": true,
        "_uuid": "f59baf7347a6365e78352105f79cd249a752937b"
      },
      "cell_type": "code",
      "source": "sns.set(style=\"whitegrid\")\nplt.subplots(figsize=(50,15))\ndf = pd.DataFrame(ingredient_count[:25], columns=['ingredient', 'frequency'])\ndf.head()\nax = sns.barplot('ingredient', 'frequency', data=df)\n",
      "execution_count": null,
      "outputs": []
    },
    {
      "metadata": {
        "trusted": true,
        "_uuid": "ce98f94c73a53a2ab8a8b7e1944c140d8866e746"
      },
      "cell_type": "code",
      "source": "df_ingr_by_cuisine = df_train[df_train['cuisine'] == 'italian']\ningredient_count = Counter([item for sublist in df_ingr_by_cuisine.ingredients for item in sublist]).most_common()\nsns.set(style=\"whitegrid\")\nplt.subplots(figsize=(50,15))\ndf = pd.DataFrame(ingredient_count[:25], columns=['ingredient', 'frequency'])\ndf.head()\nax = sns.barplot('ingredient', 'frequency', data=df)\nax.set_title('Top Italian Ingredients')",
      "execution_count": null,
      "outputs": []
    },
    {
      "metadata": {
        "trusted": true,
        "_uuid": "62b00e82085476f1a8890a19dabc26b1fab4ac17"
      },
      "cell_type": "code",
      "source": "df_ingr_by_cuisine = df_train[df_train['cuisine'] == 'chinese']\ningredient_count = Counter([item for sublist in df_ingr_by_cuisine.ingredients for item in sublist]).most_common()\nsns.set(style=\"whitegrid\")\nplt.subplots(figsize=(50,15))\ndf = pd.DataFrame(ingredient_count[:25], columns=['ingredient', 'frequency'])\ndf.head()\nax = sns.barplot('ingredient', 'frequency', data=df)\nax.set_title('Top Chinese Ingredients')",
      "execution_count": null,
      "outputs": []
    },
    {
      "metadata": {
        "trusted": true,
        "_uuid": "5d66245b485d87f2e6abaf9d475034dc070d6560"
      },
      "cell_type": "code",
      "source": "df_ingr_by_cuisine = df_train[df_train['cuisine'] == 'mexican']\ningredient_count = Counter([item for sublist in df_ingr_by_cuisine.ingredients for item in sublist]).most_common()\nsns.set(style=\"whitegrid\")\nplt.subplots(figsize=(50,15))\ndf = pd.DataFrame(ingredient_count[:25], columns=['ingredient', 'frequency'])\nax = sns.barplot('ingredient', 'frequency', data=df)\nax.set_title('Top Mexican Ingredients')",
      "execution_count": null,
      "outputs": []
    },
    {
      "metadata": {
        "trusted": true,
        "_uuid": "c10f51c7c4ca1f721fbeccecd58776d4023ba86a"
      },
      "cell_type": "code",
      "source": "df_ingr_by_cuisine = df_train[df_train['cuisine'] == 'indian']\ningredient_count = Counter([item for sublist in df_ingr_by_cuisine.ingredients for item in sublist]).most_common()\nsns.set(style=\"whitegrid\")\nplt.subplots(figsize=(50,15))\ndf = pd.DataFrame(ingredient_count[:25], columns=['ingredient', 'frequency'])\nax = sns.barplot('ingredient', 'frequency', data=df)\nax.set_title('Top Indian Ingredients')",
      "execution_count": null,
      "outputs": []
    },
    {
      "metadata": {
        "trusted": true,
        "_uuid": "b24781f4318bafe561f54250a4f0b8b2fa026bca"
      },
      "cell_type": "code",
      "source": "def transform(ingredients):\n    ingredients_text = ' '.join(ingredients)\n    ingredients_text = ingredients_text.lower()\n    ingredients_text = ingredients_text.replace('-', '')\n    return ingredients_text",
      "execution_count": null,
      "outputs": []
    },
    {
      "metadata": {
        "trusted": true,
        "_uuid": "800346fc7a34b00b05469d4dfe37745f33c4ea66"
      },
      "cell_type": "code",
      "source": "df_train['x'] = df_train['ingredients'].apply(lambda ingredients: transform(ingredients))\ndf_test['x'] = df_test['ingredients'].apply(lambda ingredients: transform(ingredients))",
      "execution_count": null,
      "outputs": []
    },
    {
      "metadata": {
        "trusted": true,
        "_uuid": "52e30c0411b1410f470daf5c9792ba659058e179"
      },
      "cell_type": "code",
      "source": "tfidf = TfidfVectorizer(binary=True)\ndef tfidf_features(txt, flag):\n    if flag == \"train\":\n    \tx = tfidf.fit_transform(txt)\n    else:\n\t    x = tfidf.transform(txt)\n    x = x.astype('float16')\n    return x \nx_train = tfidf_features(df_train['x'], flag=\"train\")\nx_test = tfidf_features(df_test['x'], flag=\"test\")\n",
      "execution_count": null,
      "outputs": []
    },
    {
      "metadata": {
        "trusted": true,
        "_uuid": "5fc8befb00f9505688deb7b8e0a9ed8e8038b308"
      },
      "cell_type": "code",
      "source": "# Label Encoding - Target \nlb = LabelEncoder()\ndf_train['cuisine'] = lb.fit_transform(df_train.cuisine.values)",
      "execution_count": null,
      "outputs": []
    },
    {
      "metadata": {
        "trusted": true,
        "_uuid": "5ff810f2f03f1d1b26eab4aedd9f17b4b82a5c20"
      },
      "cell_type": "code",
      "source": "m = RandomForestClassifier(oob_score=True)\nm.fit(x_train, df_train['cuisine'])",
      "execution_count": null,
      "outputs": []
    },
    {
      "metadata": {
        "trusted": true,
        "_uuid": "28cf01bc3b53f58883686bf1588e332356c265ff"
      },
      "cell_type": "code",
      "source": "y_test = m.predict(x_test)\ny_pred = lb.inverse_transform(y_test)",
      "execution_count": null,
      "outputs": []
    },
    {
      "metadata": {
        "trusted": true,
        "_uuid": "0cf6d03d7fd9f753ef0c2acfdbf05a697d9de01d"
      },
      "cell_type": "code",
      "source": "df_sub = pd.DataFrame(np.array([df_test.id, y_pred]).T, \n                      columns=['id', 'cuisine']).set_index('id')\n\ndf_sub.head()",
      "execution_count": null,
      "outputs": []
    },
    {
      "metadata": {
        "trusted": true,
        "_uuid": "af19ad91f0eb28667e53f2e9fdc4f213dddc878f"
      },
      "cell_type": "code",
      "source": "df_sub.to_csv('submission.csv')",
      "execution_count": null,
      "outputs": []
    }
  ],
  "metadata": {
    "kernelspec": {
      "display_name": "Python 3",
      "language": "python",
      "name": "python3"
    },
    "language_info": {
      "name": "python",
      "version": "3.6.6",
      "mimetype": "text/x-python",
      "codemirror_mode": {
        "name": "ipython",
        "version": 3
      },
      "pygments_lexer": "ipython3",
      "nbconvert_exporter": "python",
      "file_extension": ".py"
    }
  },
  "nbformat": 4,
  "nbformat_minor": 1
}